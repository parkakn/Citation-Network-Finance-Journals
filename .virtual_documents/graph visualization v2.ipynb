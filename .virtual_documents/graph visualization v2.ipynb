import pandas as pd





merged_df = pd.read_csv("cit_ntwk_raw.csv",index_col = 0)


df = merged_df[['citing_paper','cited_paper','Date']]


df


# Set to collect unique nodes
unique_nodes = set(df['citing_paper']) | set(df['cited_paper'])


paper_nodes = pd.DataFrame(unique_nodes, columns = ['Title'])
paper_nodes['name'] = ["node"+str(i) for i in range(len(paper_nodes))]
paper_nodes


# Mapping titles to IDs
title_to_id = paper_nodes.reset_index().set_index('Title')['index'].to_dict()


# Replacing titles with IDs in df1
df['citing_paper'] = df['citing_paper'].map(title_to_id)
df['cited_paper'] = df['cited_paper'].map(title_to_id)


df


edges = df[['citing_paper','cited_paper']].rename(columns = {'citing_paper':'source','cited_paper':'target'})


edges





import datashader as ds
import datashader.transfer_functions as tf
from datashader.layout import random_layout, circular_layout, forceatlas2_layout


circular  = circular_layout(paper_nodes[['name']], uniform=False)
randomloc = random_layout(paper_nodes[['name']])
randomloc.tail()


cvsopts = dict(plot_height=10000, plot_width=10000)

def nodesplot(nodes, name=None, canvas=None, cat=None):
    canvas = ds.Canvas(**cvsopts) if canvas is None else canvas
    aggregator=None if cat is None else ds.count_cat(cat)
    agg=canvas.points(nodes,'x','y',aggregator)
    return tf.spread(tf.shade(agg, cmap=["#FF3333"]), px=3, name=name)


tf.Images(nodesplot(randomloc,"Random layout"),
          nodesplot(circular, "Circular layout"))











import holoviews as hv
from holoviews import opts

from colorcet import fire
from datashader.bundling import directly_connect_edges, hammer_bundle

from holoviews.operation.datashader import datashade, dynspread
from holoviews.operation import decimate


from dask.distributed import Client
client = Client()


client


hv.notebook_extension('bokeh','matplotlib')

decimate.max_samples=20000
dynspread.threshold=0.01
datashade.cmap=fire[40:]
sz = dict(width=150,height=150)

opts.defaults(
    opts.RGB(width=800, height=800, xaxis=None, yaxis=None, show_grid=False, bgcolor="black"))


edges





r_nodes_df = randomloc.iloc[:,1:]
r_edges_df = edges


r_nodes_df


r_edges_df


r_nodes = hv.Points(r_nodes_df, label="Nodes")
r_edges = hv.Curve(r_edges_df, label="Edges")
len(r_nodes), len(r_edges)


r_direct = hv.Curve(directly_connect_edges(r_nodes.data, r_edges.data),label="Direct")


dynspread(datashade(r_nodes,cmap=["cyan"])) + datashade(r_direct)





%time 
forcedirected = forceatlas2_layout(paper_nodes, edges)
tf.Images(nodesplot(forcedirected, "ForceAtlas2 layout"))



